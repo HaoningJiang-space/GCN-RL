{
 "cells": [
  {
   "cell_type": "code",
   "execution_count": 4,
   "metadata": {},
   "outputs": [],
   "source": [
    "import torch\n",
    "\n",
    "x = torch.tensor([[2,1],[5,6],[3,7],[12,0]], dtype=torch.float32)\n",
    "y = torch.tensor([0,1,0,1], dtype=torch.float32)\n",
    "\n"
   ]
  },
  {
   "cell_type": "markdown",
   "metadata": {},
   "source": [
    "边的定义无所谓"
   ]
  },
  {
   "cell_type": "code",
   "execution_count": 5,
   "metadata": {},
   "outputs": [],
   "source": [
    "edge_index = torch.tensor([[0,1,2,0,3],   #起始点\n",
    "                           [1,0,1,3,2]], dtype=torch.long) #终止点"
   ]
  },
  {
   "cell_type": "markdown",
   "metadata": {},
   "source": [
    "创建torch_geometric的图"
   ]
  },
  {
   "cell_type": "code",
   "execution_count": null,
   "metadata": {},
   "outputs": [],
   "source": [
    "from torch_geometric.data import Data\n",
    "data = Data(x=x, y=y, edge_index=edge_index)"
   ]
  }
 ],
 "metadata": {
  "kernelspec": {
   "display_name": "AIDD",
   "language": "python",
   "name": "python3"
  },
  "language_info": {
   "codemirror_mode": {
    "name": "ipython",
    "version": 3
   },
   "file_extension": ".py",
   "mimetype": "text/x-python",
   "name": "python",
   "nbconvert_exporter": "python",
   "pygments_lexer": "ipython3",
   "version": "3.9.19"
  }
 },
 "nbformat": 4,
 "nbformat_minor": 2
}
