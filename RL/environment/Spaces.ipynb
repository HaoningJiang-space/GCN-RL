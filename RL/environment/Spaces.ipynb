{
 "cells": [
  {
   "cell_type": "markdown",
   "metadata": {},
   "source": [
    "Box\n",
    "\n",
    "box（可能是无界的）在n维空间中。一个box代表n维封闭区间的笛卡尔积。每个区间都有[a, b]， (-oo, b)， [a, oo)，或(-oo, oo)的形式。\n",
    "\n",
    "需要注意的重点在于：box可以表示n维空间，并且区间有闭有开。"
   ]
  },
  {
   "cell_type": "code",
   "execution_count": null,
   "metadata": {},
   "outputs": [],
   "source": [
    "class Box(Space):\n",
    "    \"\"\"\n",
    "    A (possibly unbounded) box in R^n. Specifically, a Box represents the\n",
    "    Cartesian product of n closed intervals. Each interval has the form of one\n",
    "    of [a, b], (-oo, b], [a, oo), or (-oo, oo).\n",
    "    There are two common use cases:\n",
    "    * Identical bound for each dimension::\n",
    "        >>> Box(low=-1.0, high=2.0, shape=(3, 4), dtype=np.float32)\n",
    "        Box(3, 4)\n",
    "    * Independent bound for each dimension::\n",
    "        >>> Box(low=np.array([-1.0, -2.0]), high=np.array([2.0, 4.0]), dtype=np.float32)\n",
    "        Box(2,)\n",
    "    \"\"\""
   ]
  },
  {
   "cell_type": "code",
   "execution_count": 2,
   "metadata": {},
   "outputs": [
    {
     "name": "stdout",
     "output_type": "stream",
     "text": [
      "Box(-1.0, 2.0, (3, 4), float32)\n",
      "[[ 1.2512864  -0.83426917  0.7229681   1.6158623 ]\n",
      " [ 0.60072774  0.5329226   0.98730075 -0.08040059]\n",
      " [ 0.9483099   0.04675857 -0.66535336  1.5907938 ]]\n"
     ]
    },
    {
     "data": {
      "text/plain": [
       "Box(3.0, 4.0, (1,), float32)"
      ]
     },
     "execution_count": 2,
     "metadata": {},
     "output_type": "execute_result"
    }
   ],
   "source": [
    "import numpy as np\n",
    "from gym.spaces.box import Box\n",
    "\n",
    "my_box = Box(low=-1.0, high=2.0, shape=(3, 4), dtype=np.float32)\n",
    "my_box_sample = my_box.sample()\n",
    "\n",
    "print(my_box)\n",
    "print(my_box_sample)\n",
    "\n",
    "# 输出\n",
    "Box(3, 4)"
   ]
  },
  {
   "cell_type": "markdown",
   "metadata": {},
   "source": [
    "Discrete"
   ]
  },
  {
   "cell_type": "code",
   "execution_count": 6,
   "metadata": {},
   "outputs": [
    {
     "name": "stdout",
     "output_type": "stream",
     "text": [
      "==================\n",
      "()\n",
      "8\n",
      "Discrete(8)\n",
      "5\n",
      "7\n",
      "7\n",
      "4\n",
      "7\n"
     ]
    }
   ],
   "source": [
    "from gym import spaces\n",
    "\n",
    "# 1.Discrete\n",
    "# 取值是{0, 1, ..., n - 1}\n",
    "print(\"==================\")\n",
    "dis = spaces.Discrete(8)\n",
    "print(dis.shape)\n",
    "print(dis.n)\n",
    "print(dis)\n",
    "dis.seed(4)\n",
    "for _ in range(5):\n",
    "    print(dis.sample())"
   ]
  },
  {
   "cell_type": "markdown",
   "metadata": {},
   "source": [
    "Discrete对应于一维离散空间，Box对应于多维连续空间。它们既可以应用在action space中，也可以用在state space"
   ]
  },
  {
   "cell_type": "markdown",
   "metadata": {},
   "source": [
    "当某些场景的state既有discrete也有continuous时，这就可以使用tuple了。举个例子来说，开车时，有三个连续控制组件：方向盘，刹车，油门等，它们可以用一个Box表示；此外还有一些离散的控制组件如转向灯（关闭，左转，右转等），喇叭（开，关）等。这就可以用tuple表示："
   ]
  },
  {
   "cell_type": "code",
   "execution_count": null,
   "metadata": {},
   "outputs": [],
   "source": [
    "Tuple(spaces=(Box(low=-1.0, high=1.0, shape=(3,)), Discrete(n=3), Discrete(n=2)))"
   ]
  },
  {
   "cell_type": "markdown",
   "metadata": {},
   "source": []
  }
 ],
 "metadata": {
  "kernelspec": {
   "display_name": "multi_agent",
   "language": "python",
   "name": "python3"
  },
  "language_info": {
   "codemirror_mode": {
    "name": "ipython",
    "version": 3
   },
   "file_extension": ".py",
   "mimetype": "text/x-python",
   "name": "python",
   "nbconvert_exporter": "python",
   "pygments_lexer": "ipython3",
   "version": "3.11.5"
  }
 },
 "nbformat": 4,
 "nbformat_minor": 2
}
