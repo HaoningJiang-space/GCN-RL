{
 "cells": [
  {
   "cell_type": "markdown",
   "metadata": {},
   "source": [
    "torch_geometric.data.Dataset\n",
    "\n",
    "torch_geometric.data.InMemoryDataset第二个是第一个的子类，如果希望全部数据都在内存里则需要使用第二个类"
   ]
  },
  {
   "cell_type": "markdown",
   "metadata": {},
   "source": [
    "要创建一个名为\"InMemoryDataset\"的数据集类，你需要实现以下四个基本方法：\n",
    "\n",
    "raw_file_names(raw_dir)：该方法需要返回原始文件在raw_dir目录中的列表。如果原始文件已经存在于该目录中，则下载过程可以跳过。\n",
    "\n",
    "processed_file_names(processed_dir)：这个方法需要返回处理后文件在processed_dir目录中的列表。这将用于跳过处理过程。\n",
    "\n",
    "download(raw_dir)：这个方法用于将原始文件下载到raw_dir目录中。\n",
    "\n",
    "process(raw_data, processed_dir)：这个方法用于处理原始数据并将其保存到processed_dir目录中。在这个方法中，你需要读取原始数据并创建一个数据对象列表，然后将其保存到文件夹中。为了提高存储效率，你可以使用collate方法将数据对象列表合并为一个大的数据对象，然后从该对象中生成一个slices字典，用于重建单个样例。最后，你需要加载两个对象self.data和self.slices。"
   ]
  },
  {
   "cell_type": "code",
   "execution_count": null,
   "metadata": {},
   "outputs": [],
   "source": [
    "import torch\n",
    "from torch_geometric.data import InMemoryDataset, download_url\n",
    "\n",
    "\n",
    "class MyOwnDataset(InMemoryDataset):\n",
    "    def __init__(self, root, transform=None, pre_transform=None, pre_filter=None):\n",
    "        super(MyOwnDataset, self).__init__(root, transform, pre_transform, pre_filter)\n",
    "        # 初始化时将数据读入内存\n",
    "        self.data, self.slices = torch.load(self.processed_paths[0])\n",
    "\n",
    "    @property\n",
    "    def raw_file_names(self):\n",
    "        return ['some_file_1', 'some_file_2', ...]\n",
    "\n",
    "    @property\n",
    "    def processed_file_names(self):\n",
    "        return ['data.pt']\n",
    "\n",
    "    def download(self):\n",
    "        # Download to 'self.raw_file'\n",
    "        download_url(url, self.raw_dir) # 这里的url需要自己指定\n",
    "\n",
    "    def process(self):\n",
    "        # Read data into huge 'Data' list\n",
    "        data_list = [...]\n",
    "        if self.pre_filter is not None:\n",
    "            data_list = [data for data in data_list if self.pre_filter(data)]\n",
    "        if self.pre_transform is not None:\n",
    "            data_list = [self.pre_transform(data) for data in data_list]\n",
    "\n",
    "        data, slices = self.collate(data_list)\n",
    "        # 将处理后的数据存储\n",
    "        torch.save((data, slices), self.processed_paths[0])\n"
   ]
  },
  {
   "cell_type": "markdown",
   "metadata": {},
   "source": [
    "更大数据集"
   ]
  },
  {
   "cell_type": "code",
   "execution_count": null,
   "metadata": {},
   "outputs": [],
   "source": [
    "import os.path as osp\n",
    "\n",
    "import torch\n",
    "from torch_geometric.data import Dataset, download_url\n",
    "\n",
    "\n",
    "class MyOwnDataset(Dataset):\n",
    "    def __init__(self, root, transform=None, pre_transform=None, pre_filter=None):\n",
    "        super().__init__(root, transform, pre_transform, pre_filter)\n",
    "\n",
    "    @property\n",
    "    def raw_file_names(self):\n",
    "        return ['some_file_1', 'some_file_2', ...]\n",
    "\n",
    "    @property\n",
    "    def processed_file_names(self):\n",
    "        return ['data_1.pt', 'data_2.pt', ...]\n",
    "\n",
    "    def download(self):\n",
    "        # Download to `self.raw_dir`.\n",
    "        path = download_url(url, self.raw_dir)\n",
    "        ...\n",
    "    ## 上面是一样的，重点是下面\n",
    "    def process(self):\n",
    "    \t# 因为数据比较多，无法一次读入内存，所以以图为单位分开读取、处理、再存储\n",
    "        idx = 0\n",
    "        for raw_path in self.raw_paths:\n",
    "            # Read data from `raw_path`.\n",
    "            data = Data(...)\n",
    "\n",
    "            if self.pre_filter is not None and not self.pre_filter(data):\n",
    "                continue\n",
    "\n",
    "            if self.pre_transform is not None:\n",
    "                data = self.pre_transform(data)\n",
    "\n",
    "            torch.save(data, osp.join(self.processed_dir, f'data_{idx}.pt'))\n",
    "            idx += 1\n",
    "\n",
    "    def len(self):\n",
    "        return len(self.processed_file_names)\n",
    "\n",
    "    def get(self, idx):\n",
    "        data = torch.load(osp.join(self.processed_dir, f'data_{idx}.pt'))\n",
    "        return data\n"
   ]
  },
  {
   "cell_type": "code",
   "execution_count": null,
   "metadata": {},
   "outputs": [],
   "source": []
  }
 ],
 "metadata": {
  "kernelspec": {
   "display_name": "AIDD",
   "language": "python",
   "name": "python3"
  },
  "language_info": {
   "name": "python",
   "version": "3.9.19"
  }
 },
 "nbformat": 4,
 "nbformat_minor": 2
}
