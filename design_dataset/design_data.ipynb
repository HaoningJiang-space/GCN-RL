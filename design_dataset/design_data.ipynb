{
 "cells": [
  {
   "cell_type": "code",
   "execution_count": 2,
   "metadata": {},
   "outputs": [],
   "source": [
    "import torch\n",
    "\n",
    "x = torch.tensor([[2,1],[5,6],[3,7],[12,0]], dtype=torch.float32)\n",
    "y = torch.tensor([0,1,0,1], dtype=torch.float32)\n",
    "\n"
   ]
  },
  {
   "cell_type": "markdown",
   "metadata": {},
   "source": [
    "边的定义无所谓"
   ]
  },
  {
   "cell_type": "code",
   "execution_count": 3,
   "metadata": {},
   "outputs": [],
   "source": [
    "edge_index = torch.tensor([[0,1,2,0,3],   #起始点\n",
    "                           [1,0,1,3,2]], dtype=torch.long) #终止点"
   ]
  },
  {
   "cell_type": "markdown",
   "metadata": {},
   "source": [
    "创建torch_geometric的图"
   ]
  },
  {
   "cell_type": "code",
   "execution_count": 4,
   "metadata": {},
   "outputs": [],
   "source": [
    "from torch_geometric.data import Data\n",
    "\n",
    "data = Data(x=x, y=y, edge_index=edge_index)"
   ]
  },
  {
   "cell_type": "code",
   "execution_count": 5,
   "metadata": {},
   "outputs": [
    {
     "data": {
      "text/plain": [
       "Data(x=[4, 2], edge_index=[2, 5], y=[4])"
      ]
     },
     "execution_count": 5,
     "metadata": {},
     "output_type": "execute_result"
    }
   ],
   "source": [
    "data"
   ]
  },
  {
   "cell_type": "markdown",
   "metadata": {},
   "source": [
    "1、节点：（汽车、地铁站、人物、分子）\n",
    "\n",
    "2、边：（节点间是否连接、节点间的相似性）\n",
    "\n",
    "3、节点特征（node feature）：（比如某个地铁站的人流量）\n",
    "\n",
    "4、标签（label）：（这取决于你做什么类型的任务：节点、边、图级别的标签）\n",
    "\n",
    "以上四点是一个标准图数据集必须包含的内容，除此外，如果你的数据集内容较为丰富，可能还包含以下内容：\n",
    "\n",
    "5、边的权重（例如每条边的连接强度）\n",
    "\n",
    "6、边的特征（例如包含不同类型的边）\n",
    "\n",
    "第五点和第六点在RGCN等关系图卷积神经网络中具有应用。"
   ]
  },
  {
   "cell_type": "markdown",
   "metadata": {},
   "source": [
    "同质图（Homogeneous）：你可以简单理解为你的图中的节点/边是同一种类型，例如交通网络中节点都是地铁站，没有公交车站\n",
    "\n",
    "异质图（Heterogeneous）：存在不同类型的节点或者边的类型。例如交通网络中包含了地铁站、自行车站点、公交车站点。"
   ]
  },
  {
   "cell_type": "markdown",
   "metadata": {},
   "source": [
    "同质图为例:\n",
    "\n",
    "FIFA 21 Rating 数据集，一个包含足球运动员的数据集。"
   ]
  },
  {
   "cell_type": "code",
   "execution_count": 6,
   "metadata": {},
   "outputs": [
    {
     "name": "stdout",
     "output_type": "stream",
     "text": [
      "文件下载完成！\n"
     ]
    }
   ],
   "source": [
    "import requests\n",
    "url = \"https://raw.githubusercontent.com/batuhan-demirci/fifa21_dataset/master/data/tbl_player.csv\"\n",
    "filename = \"tbl_player.csv\"\n",
    "\n",
    "response = requests.get(url)\n",
    "response.raise_for_status()\n",
    "\n",
    "with open(filename, \"wb\") as file:\n",
    "    file.write(response.content)\n",
    "\n",
    "print(\"文件下载完成！\")"
   ]
  },
  {
   "cell_type": "code",
   "execution_count": 7,
   "metadata": {},
   "outputs": [
    {
     "name": "stdout",
     "output_type": "stream",
     "text": [
      "Players:  18767\n"
     ]
    },
    {
     "data": {
      "text/html": [
       "<div>\n",
       "<style scoped>\n",
       "    .dataframe tbody tr th:only-of-type {\n",
       "        vertical-align: middle;\n",
       "    }\n",
       "\n",
       "    .dataframe tbody tr th {\n",
       "        vertical-align: top;\n",
       "    }\n",
       "\n",
       "    .dataframe thead th {\n",
       "        text-align: right;\n",
       "    }\n",
       "</style>\n",
       "<table border=\"1\" class=\"dataframe\">\n",
       "  <thead>\n",
       "    <tr style=\"text-align: right;\">\n",
       "      <th></th>\n",
       "      <th>int_player_id</th>\n",
       "      <th>str_player_name</th>\n",
       "      <th>str_positions</th>\n",
       "      <th>int_overall_rating</th>\n",
       "      <th>int_team_id</th>\n",
       "      <th>int_long_passing</th>\n",
       "      <th>int_ball_control</th>\n",
       "      <th>int_dribbling</th>\n",
       "      <th>str_team_name</th>\n",
       "      <th>int_overall</th>\n",
       "    </tr>\n",
       "  </thead>\n",
       "  <tbody>\n",
       "    <tr>\n",
       "      <th>0</th>\n",
       "      <td>1</td>\n",
       "      <td>Lionel Andrés Messi Cuccittini</td>\n",
       "      <td>RW, ST, CF</td>\n",
       "      <td>93</td>\n",
       "      <td>5.0</td>\n",
       "      <td>91</td>\n",
       "      <td>96</td>\n",
       "      <td>96</td>\n",
       "      <td>FC Barcelona</td>\n",
       "      <td>84</td>\n",
       "    </tr>\n",
       "    <tr>\n",
       "      <th>1</th>\n",
       "      <td>2</td>\n",
       "      <td>Cristiano Ronaldo dos Santos Aveiro</td>\n",
       "      <td>ST, LW</td>\n",
       "      <td>92</td>\n",
       "      <td>6.0</td>\n",
       "      <td>77</td>\n",
       "      <td>92</td>\n",
       "      <td>88</td>\n",
       "      <td>Juventus</td>\n",
       "      <td>83</td>\n",
       "    </tr>\n",
       "    <tr>\n",
       "      <th>2</th>\n",
       "      <td>3</td>\n",
       "      <td>Jan Oblak</td>\n",
       "      <td>GK</td>\n",
       "      <td>91</td>\n",
       "      <td>8.0</td>\n",
       "      <td>40</td>\n",
       "      <td>30</td>\n",
       "      <td>12</td>\n",
       "      <td>Atlético Madrid</td>\n",
       "      <td>83</td>\n",
       "    </tr>\n",
       "    <tr>\n",
       "      <th>3</th>\n",
       "      <td>4</td>\n",
       "      <td>Kevin De Bruyne</td>\n",
       "      <td>CAM, CM</td>\n",
       "      <td>91</td>\n",
       "      <td>2.0</td>\n",
       "      <td>93</td>\n",
       "      <td>92</td>\n",
       "      <td>88</td>\n",
       "      <td>Manchester City</td>\n",
       "      <td>85</td>\n",
       "    </tr>\n",
       "    <tr>\n",
       "      <th>4</th>\n",
       "      <td>5</td>\n",
       "      <td>Neymar da Silva Santos Júnior</td>\n",
       "      <td>LW, CAM</td>\n",
       "      <td>91</td>\n",
       "      <td>7.0</td>\n",
       "      <td>81</td>\n",
       "      <td>95</td>\n",
       "      <td>95</td>\n",
       "      <td>Paris Saint-Germain</td>\n",
       "      <td>83</td>\n",
       "    </tr>\n",
       "  </tbody>\n",
       "</table>\n",
       "</div>"
      ],
      "text/plain": [
       "   int_player_id                      str_player_name str_positions  \\\n",
       "0              1       Lionel Andrés Messi Cuccittini    RW, ST, CF   \n",
       "1              2  Cristiano Ronaldo dos Santos Aveiro        ST, LW   \n",
       "2              3                            Jan Oblak            GK   \n",
       "3              4                      Kevin De Bruyne       CAM, CM   \n",
       "4              5        Neymar da Silva Santos Júnior       LW, CAM   \n",
       "\n",
       "   int_overall_rating  int_team_id  int_long_passing  int_ball_control  \\\n",
       "0                  93          5.0                91                96   \n",
       "1                  92          6.0                77                92   \n",
       "2                  91          8.0                40                30   \n",
       "3                  91          2.0                93                92   \n",
       "4                  91          7.0                81                95   \n",
       "\n",
       "   int_dribbling        str_team_name  int_overall  \n",
       "0             96         FC Barcelona           84  \n",
       "1             88             Juventus           83  \n",
       "2             12      Atlético Madrid           83  \n",
       "3             88      Manchester City           85  \n",
       "4             95  Paris Saint-Germain           83  "
      ]
     },
     "execution_count": 7,
     "metadata": {},
     "output_type": "execute_result"
    }
   ],
   "source": [
    "import pandas as pd\n",
    "import requests\n",
    "# Download data (quietly)\n",
    "# !wget -q https://raw.githubusercontent.com/batuhan-demirci/fifa21_dataset/master/data/tbl_player.csv\n",
    "# !wget -q https://raw.githubusercontent.com/batuhan-demirci/fifa21_dataset/master/data/tbl_player_skill.csv\n",
    "# !wget -q https://raw.githubusercontent.com/batuhan-demirci/fifa21_dataset/master/data/tbl_team.csv\n",
    "\n",
    "\n",
    "\n",
    "# 加载数据\n",
    "player_df = pd.read_csv(\"tbl_player.csv\" )\n",
    "skill_df = pd.read_csv(\"tbl_player_skill.csv\")\n",
    "team_df = pd.read_csv(\"tbl_team.csv\")\n",
    "\n",
    "# Extract subsets\n",
    "player_df = player_df[[\"int_player_id\", \"str_player_name\", \"str_positions\", \"int_overall_rating\", \"int_team_id\"]]\n",
    "skill_df = skill_df[[\"int_player_id\", \"int_long_passing\", \"int_ball_control\", \"int_dribbling\"]]\n",
    "team_df = team_df[[\"int_team_id\", \"str_team_name\", \"int_overall\"]]\n",
    "\n",
    "# Merge data\n",
    "player_df = player_df.merge(skill_df, on='int_player_id')\n",
    "fifa_df = player_df.merge(team_df, on='int_team_id')\n",
    "\n",
    "# 按照int_overall_rating排序\n",
    "fifa_df = fifa_df.sort_values(by=\"int_overall_rating\", ascending=False)\n",
    "print(\"Players: \", fifa_df.shape[0])\n",
    "fifa_df.head()"
   ]
  },
  {
   "cell_type": "markdown",
   "metadata": {},
   "source": [
    "1、节点 - 足球运动员（按 ID）\n",
    "\n",
    "2、边 - 如果他们为同一支球队效力\n",
    "\n",
    "3、节点特征 - 足球运动员的位置、专长、控球、......\n",
    "\n",
    "4、标签 - 足球运动员的总体评分（节点级回归任务）\n",
    "\n",
    "节点通常很容易识别——在这里我们有 ID。 如果您没有唯一标识符，则需要一个，因为需要知道在哪些节点之间存在连接奥。\n",
    "\n",
    "需要确保每个运动员的ID没有重复，这非常重要奥，请注意，我们计划在这里构建一个单一的图， 如果单个节点 ID 在咱们的数据集中出现不止一次，则有不同的选项，但这里为了简化，我们只考虑构建单一的图。"
   ]
  },
  {
   "cell_type": "code",
   "execution_count": 8,
   "metadata": {},
   "outputs": [
    {
     "data": {
      "text/plain": [
       "1"
      ]
     },
     "execution_count": 8,
     "metadata": {},
     "output_type": "execute_result"
    }
   ],
   "source": [
    "# Make sure that we have no duplicate nodes\n",
    "max(fifa_df[\"int_player_id\"].value_counts())"
   ]
  },
  {
   "cell_type": "markdown",
   "metadata": {},
   "source": [
    "提取节点特征"
   ]
  },
  {
   "cell_type": "code",
   "execution_count": 9,
   "metadata": {},
   "outputs": [
    {
     "data": {
      "text/html": [
       "<div>\n",
       "<style scoped>\n",
       "    .dataframe tbody tr th:only-of-type {\n",
       "        vertical-align: middle;\n",
       "    }\n",
       "\n",
       "    .dataframe tbody tr th {\n",
       "        vertical-align: top;\n",
       "    }\n",
       "\n",
       "    .dataframe thead th {\n",
       "        text-align: right;\n",
       "    }\n",
       "</style>\n",
       "<table border=\"1\" class=\"dataframe\">\n",
       "  <thead>\n",
       "    <tr style=\"text-align: right;\">\n",
       "      <th></th>\n",
       "      <th>int_long_passing</th>\n",
       "      <th>int_ball_control</th>\n",
       "      <th>int_dribbling</th>\n",
       "      <th>CAM</th>\n",
       "      <th>CB</th>\n",
       "      <th>CDM</th>\n",
       "      <th>CF</th>\n",
       "      <th>CM</th>\n",
       "      <th>GK</th>\n",
       "      <th>LB</th>\n",
       "      <th>LM</th>\n",
       "      <th>LW</th>\n",
       "      <th>LWB</th>\n",
       "      <th>RB</th>\n",
       "      <th>RM</th>\n",
       "      <th>RW</th>\n",
       "      <th>RWB</th>\n",
       "      <th>ST</th>\n",
       "    </tr>\n",
       "  </thead>\n",
       "  <tbody>\n",
       "    <tr>\n",
       "      <th>0</th>\n",
       "      <td>91</td>\n",
       "      <td>96</td>\n",
       "      <td>96</td>\n",
       "      <td>False</td>\n",
       "      <td>False</td>\n",
       "      <td>False</td>\n",
       "      <td>False</td>\n",
       "      <td>False</td>\n",
       "      <td>False</td>\n",
       "      <td>False</td>\n",
       "      <td>False</td>\n",
       "      <td>False</td>\n",
       "      <td>False</td>\n",
       "      <td>False</td>\n",
       "      <td>False</td>\n",
       "      <td>True</td>\n",
       "      <td>False</td>\n",
       "      <td>False</td>\n",
       "    </tr>\n",
       "    <tr>\n",
       "      <th>1</th>\n",
       "      <td>77</td>\n",
       "      <td>92</td>\n",
       "      <td>88</td>\n",
       "      <td>False</td>\n",
       "      <td>False</td>\n",
       "      <td>False</td>\n",
       "      <td>False</td>\n",
       "      <td>False</td>\n",
       "      <td>False</td>\n",
       "      <td>False</td>\n",
       "      <td>False</td>\n",
       "      <td>False</td>\n",
       "      <td>False</td>\n",
       "      <td>False</td>\n",
       "      <td>False</td>\n",
       "      <td>False</td>\n",
       "      <td>False</td>\n",
       "      <td>True</td>\n",
       "    </tr>\n",
       "    <tr>\n",
       "      <th>2</th>\n",
       "      <td>40</td>\n",
       "      <td>30</td>\n",
       "      <td>12</td>\n",
       "      <td>False</td>\n",
       "      <td>False</td>\n",
       "      <td>False</td>\n",
       "      <td>False</td>\n",
       "      <td>False</td>\n",
       "      <td>True</td>\n",
       "      <td>False</td>\n",
       "      <td>False</td>\n",
       "      <td>False</td>\n",
       "      <td>False</td>\n",
       "      <td>False</td>\n",
       "      <td>False</td>\n",
       "      <td>False</td>\n",
       "      <td>False</td>\n",
       "      <td>False</td>\n",
       "    </tr>\n",
       "    <tr>\n",
       "      <th>3</th>\n",
       "      <td>93</td>\n",
       "      <td>92</td>\n",
       "      <td>88</td>\n",
       "      <td>True</td>\n",
       "      <td>False</td>\n",
       "      <td>False</td>\n",
       "      <td>False</td>\n",
       "      <td>False</td>\n",
       "      <td>False</td>\n",
       "      <td>False</td>\n",
       "      <td>False</td>\n",
       "      <td>False</td>\n",
       "      <td>False</td>\n",
       "      <td>False</td>\n",
       "      <td>False</td>\n",
       "      <td>False</td>\n",
       "      <td>False</td>\n",
       "      <td>False</td>\n",
       "    </tr>\n",
       "    <tr>\n",
       "      <th>4</th>\n",
       "      <td>81</td>\n",
       "      <td>95</td>\n",
       "      <td>95</td>\n",
       "      <td>False</td>\n",
       "      <td>False</td>\n",
       "      <td>False</td>\n",
       "      <td>False</td>\n",
       "      <td>False</td>\n",
       "      <td>False</td>\n",
       "      <td>False</td>\n",
       "      <td>False</td>\n",
       "      <td>True</td>\n",
       "      <td>False</td>\n",
       "      <td>False</td>\n",
       "      <td>False</td>\n",
       "      <td>False</td>\n",
       "      <td>False</td>\n",
       "      <td>False</td>\n",
       "    </tr>\n",
       "  </tbody>\n",
       "</table>\n",
       "</div>"
      ],
      "text/plain": [
       "   int_long_passing  int_ball_control  int_dribbling    CAM     CB    CDM  \\\n",
       "0                91                96             96  False  False  False   \n",
       "1                77                92             88  False  False  False   \n",
       "2                40                30             12  False  False  False   \n",
       "3                93                92             88   True  False  False   \n",
       "4                81                95             95  False  False  False   \n",
       "\n",
       "      CF     CM     GK     LB     LM     LW    LWB     RB     RM     RW  \\\n",
       "0  False  False  False  False  False  False  False  False  False   True   \n",
       "1  False  False  False  False  False  False  False  False  False  False   \n",
       "2  False  False   True  False  False  False  False  False  False  False   \n",
       "3  False  False  False  False  False  False  False  False  False  False   \n",
       "4  False  False  False  False  False   True  False  False  False  False   \n",
       "\n",
       "     RWB     ST  \n",
       "0  False  False  \n",
       "1  False   True  \n",
       "2  False  False  \n",
       "3  False  False  \n",
       "4  False  False  "
      ]
     },
     "execution_count": 9,
     "metadata": {},
     "output_type": "execute_result"
    }
   ],
   "source": [
    "# Sort to define the order of nodes\n",
    "sorted_df = fifa_df.sort_values(by=\"int_player_id\")\n",
    "# Select node features\n",
    "node_features = sorted_df[[\"str_positions\", \"int_long_passing\", \"int_ball_control\", \"int_dribbling\"]]\n",
    "# Convert non-numeric columns\n",
    "pd.set_option('mode.chained_assignment', None)\n",
    "positions = node_features[\"str_positions\"].str.split(\",\", expand=True)\n",
    "node_features[\"first_position\"] = positions[0]\n",
    "# One-hot encoding\n",
    "node_features = pd.concat([node_features, pd.get_dummies(node_features[\"first_position\"])], axis=1, join='inner')\n",
    "node_features.drop([\"str_positions\", \"first_position\"], axis=1, inplace=True)\n",
    "node_features.head() "
   ]
  },
  {
   "cell_type": "code",
   "execution_count": 10,
   "metadata": {},
   "outputs": [
    {
     "data": {
      "text/plain": [
       "(18767, 18)"
      ]
     },
     "execution_count": 10,
     "metadata": {},
     "output_type": "execute_result"
    }
   ],
   "source": [
    "# Convert to numpy\n",
    "x = node_features.to_numpy()\n",
    "x.shape # [num_nodes x num_features]"
   ]
  },
  {
   "cell_type": "markdown",
   "metadata": {},
   "source": [
    "这里，因为对应的是节点预测任务，我们将标签简单的设置为每个玩家的评分，也就是int_overall，这里节点的特征是比较多的，有些更简单的情况，你的标签就是你节点的特征"
   ]
  },
  {
   "cell_type": "code",
   "execution_count": 11,
   "metadata": {},
   "outputs": [
    {
     "data": {
      "text/plain": [
       "(18767, 1)"
      ]
     },
     "execution_count": 11,
     "metadata": {},
     "output_type": "execute_result"
    }
   ],
   "source": [
    "# Sort to define the order of nodes\n",
    "sorted_df = fifa_df.sort_values(by=\"int_player_id\")\n",
    "# Select node features\n",
    "labels = sorted_df[[\"int_overall\"]]\n",
    "labels.head()\n",
    "# Convert to numpy\n",
    "y = labels.to_numpy()\n",
    "y.shape # [num_nodes, 1] --> node regression"
   ]
  },
  {
   "cell_type": "markdown",
   "metadata": {},
   "source": [
    "这可能是大多数数据集最棘手的部分。 我们需要考虑一种合理的方式来连接您的节点。 我自己是做交通的，交通数据集通常比较容易确定边，例如站点之间是否直接相连，依据实际的地理位置等等。如前所述，我们将在这里使用团队分配。\n",
    "\n",
    "我们现在需要找到分配给同一个团队的球员对。 让我们首先检查一下我们每支球队有多少球员。"
   ]
  },
  {
   "cell_type": "code",
   "execution_count": 12,
   "metadata": {},
   "outputs": [
    {
     "data": {
      "text/plain": [
       "str_team_name\n",
       "Everton                     36\n",
       "TSG 1899 Hoffenheim         34\n",
       "Borussia Mönchengladbach    34\n",
       "Wolverhampton Wanderers     34\n",
       "Brighton & Hove Albion      34\n",
       "                            ..\n",
       "Central Coast Mariners      19\n",
       "Wellington Phoenix          19\n",
       "Adelaide United             19\n",
       "Brisbane Roar               19\n",
       "Al Adalah                   19\n",
       "Name: count, Length: 681, dtype: int64"
      ]
     },
     "execution_count": 12,
     "metadata": {},
     "output_type": "execute_result"
    }
   ],
   "source": [
    "# Remap player IDs\n",
    "fifa_df[\"int_player_id\"] = fifa_df.reset_index().index\n",
    "# 确定每支队伍有多少球员要建立连接\n",
    "fifa_df[\"str_team_name\"].value_counts()"
   ]
  },
  {
   "cell_type": "markdown",
   "metadata": {},
   "source": [
    "我们使用列 int_player_id 作为边的索引。 例如，如果边索引中有 [0, 1]，则表示第一个和第二个节点（关于先前定义的节点特征矩阵）是相连的。"
   ]
  },
  {
   "cell_type": "code",
   "execution_count": 13,
   "metadata": {},
   "outputs": [
    {
     "data": {
      "text/plain": [
       "array([[    0,     0,     0, ..., 18698, 18698, 18728],\n",
       "       [    8,    38,    39, ..., 18728, 18733, 18733]], dtype=int64)"
      ]
     },
     "execution_count": 13,
     "metadata": {},
     "output_type": "execute_result"
    }
   ],
   "source": [
    "import itertools\n",
    "import numpy as np\n",
    "\n",
    "teams = fifa_df[\"str_team_name\"].unique()\n",
    "all_edges = np.array([], dtype=np.int32).reshape((0, 2))\n",
    "for team in teams:\n",
    "    team_df = fifa_df[fifa_df[\"str_team_name\"] == team]\n",
    "    players = team_df[\"int_player_id\"].values\n",
    "    # Build all combinations, as all players are connected\n",
    "    permutations = list(itertools.combinations(players, 2))\n",
    "    edges_source = [e[0] for e in permutations]\n",
    "    edges_target = [e[1] for e in permutations]\n",
    "    team_edges = np.column_stack([edges_source, edges_target])\n",
    "    all_edges = np.vstack([all_edges, team_edges])\n",
    "# Convert to Pytorch Geometric format\n",
    "edge_index = all_edges.transpose()\n",
    "edge_index # [2, num_edges]\n",
    "#通常选择这种 COO 格式，因为它比 NxN 邻接矩阵更有效。"
   ]
  },
  {
   "cell_type": "markdown",
   "metadata": {},
   "source": [
    "构建数据集"
   ]
  },
  {
   "cell_type": "code",
   "execution_count": 14,
   "metadata": {},
   "outputs": [],
   "source": [
    "from torch_geometric.data import Data\n",
    "data = Data(x=x, edge_index=edge_index, y=y)\n",
    "from torch_geometric.loader import DataLoader\n",
    "data_list = [Data(...), ..., Data(...)]\n",
    "loader = DataLoader(data_list, batch_size=32)\n",
    "\n"
   ]
  }
 ],
 "metadata": {
  "kernelspec": {
   "display_name": "AIDD",
   "language": "python",
   "name": "python3"
  },
  "language_info": {
   "codemirror_mode": {
    "name": "ipython",
    "version": 3
   },
   "file_extension": ".py",
   "mimetype": "text/x-python",
   "name": "python",
   "nbconvert_exporter": "python",
   "pygments_lexer": "ipython3",
   "version": "3.9.19"
  }
 },
 "nbformat": 4,
 "nbformat_minor": 2
}
